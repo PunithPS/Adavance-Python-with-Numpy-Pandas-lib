{
  "cells": [
    {
      "cell_type": "markdown",
      "id": "28f90244",
      "metadata": {
        "id": "28f90244"
      },
      "source": [
        "# NumPy Assigment  "
      ]
    },
    {
      "cell_type": "code",
      "execution_count": null,
      "id": "a762cfc2",
      "metadata": {
        "id": "a762cfc2"
      },
      "outputs": [],
      "source": [
        "# 1. Create a 4x4 matrix with diagonal elements as 1 and the rest as 0."
      ]
    },
    {
      "cell_type": "code",
      "execution_count": 1,
      "id": "ce07da28",
      "metadata": {
        "id": "ce07da28",
        "outputId": "00b8c551-1ea1-442e-d393-13b71b63421d",
        "colab": {
          "base_uri": "https://localhost:8080/"
        }
      },
      "outputs": [
        {
          "output_type": "stream",
          "name": "stdout",
          "text": [
            "[[1. 0. 0. 0.]\n",
            " [0. 1. 0. 0.]\n",
            " [0. 0. 1. 0.]\n",
            " [0. 0. 0. 1.]]\n"
          ]
        }
      ],
      "source": [
        "import numpy as np\n",
        "mat = np.eye(4)\n",
        "print(mat)"
      ]
    },
    {
      "cell_type": "code",
      "execution_count": null,
      "id": "ffd7ba43",
      "metadata": {
        "id": "ffd7ba43"
      },
      "outputs": [],
      "source": [
        "# 2. Generate a 1D array containing the squares of numbers from 1 to 10."
      ]
    },
    {
      "cell_type": "code",
      "execution_count": 2,
      "id": "6ec66abb",
      "metadata": {
        "id": "6ec66abb",
        "outputId": "a81d60d6-0715-444d-9c92-6db2b6ee064b",
        "colab": {
          "base_uri": "https://localhost:8080/"
        }
      },
      "outputs": [
        {
          "output_type": "stream",
          "name": "stdout",
          "text": [
            "[  1   4   9  16  25  36  49  64  81 100]\n"
          ]
        }
      ],
      "source": [
        "import numpy as np\n",
        "num = np.arange(1,11)\n",
        "squ_num = num**2\n",
        "print(squ_num)"
      ]
    },
    {
      "cell_type": "code",
      "execution_count": null,
      "id": "f7fed804",
      "metadata": {
        "id": "f7fed804"
      },
      "outputs": [],
      "source": [
        "# 3. Calculate the square root of each element in the array [9, 16, 25, 36]."
      ]
    },
    {
      "cell_type": "code",
      "execution_count": 3,
      "id": "8202850f",
      "metadata": {
        "id": "8202850f",
        "outputId": "85a62ec0-2c89-4a44-f816-fe20a8ca4da5",
        "colab": {
          "base_uri": "https://localhost:8080/"
        }
      },
      "outputs": [
        {
          "output_type": "stream",
          "name": "stdout",
          "text": [
            "[3. 4. 5. 6.]\n"
          ]
        }
      ],
      "source": [
        "import numpy as np\n",
        "\n",
        "arr = [9,16,25,36]\n",
        "\n",
        "sqr_rt = np.sqrt(arr)\n",
        "print(sqr_rt)"
      ]
    },
    {
      "cell_type": "code",
      "execution_count": null,
      "id": "44e14e03",
      "metadata": {
        "id": "44e14e03"
      },
      "outputs": [],
      "source": [
        "# 4. Create a 2D array with 4 rows and 3 columns, filled with ones."
      ]
    },
    {
      "cell_type": "code",
      "execution_count": 9,
      "id": "898b1d66",
      "metadata": {
        "id": "898b1d66",
        "outputId": "bf46d617-dca9-4cfd-eca6-edb914bd3046",
        "colab": {
          "base_uri": "https://localhost:8080/"
        }
      },
      "outputs": [
        {
          "output_type": "stream",
          "name": "stdout",
          "text": [
            "[[1. 1. 1.]\n",
            " [1. 1. 1.]\n",
            " [1. 1. 1.]\n",
            " [1. 1. 1.]]\n"
          ]
        }
      ],
      "source": [
        "import numpy as np\n",
        "\n",
        "arr_2d = np.ones((4,3))\n",
        "print(arr_2d)"
      ]
    },
    {
      "cell_type": "code",
      "execution_count": null,
      "id": "8d5e3e3c",
      "metadata": {
        "id": "8d5e3e3c"
      },
      "outputs": [],
      "source": [
        "# 5. Replace all odd numbers in the array [1, 7, 3, 9, 5] with their squares."
      ]
    },
    {
      "cell_type": "code",
      "execution_count": 12,
      "id": "bdd25d50",
      "metadata": {
        "id": "bdd25d50",
        "outputId": "3eae6e33-0014-44d7-b170-b39cdaf0ab9c",
        "colab": {
          "base_uri": "https://localhost:8080/"
        }
      },
      "outputs": [
        {
          "output_type": "stream",
          "name": "stdout",
          "text": [
            "[ 1 49  9 81 25]\n"
          ]
        }
      ],
      "source": [
        "import numpy as np\n",
        "\n",
        "arr = [1,7,3,9,5]\n",
        "\n",
        "squ_ar = np.square(arr)\n",
        "\n",
        "print(squ_ar)"
      ]
    },
    {
      "cell_type": "code",
      "execution_count": null,
      "id": "8f2913e9",
      "metadata": {
        "id": "8f2913e9"
      },
      "outputs": [],
      "source": [
        "# 6. Calculate the mean of a 2D array with shape (4, 4) filled with random float values."
      ]
    },
    {
      "cell_type": "code",
      "execution_count": 18,
      "id": "86827c32",
      "metadata": {
        "id": "86827c32",
        "outputId": "12521341-e77e-4560-fdfa-d0a84b052a1e",
        "colab": {
          "base_uri": "https://localhost:8080/"
        }
      },
      "outputs": [
        {
          "output_type": "stream",
          "name": "stdout",
          "text": [
            "[[0.89027432 0.52928343 0.92147824 0.89718389]\n",
            " [0.72236496 0.22590653 0.33790901 0.91390528]\n",
            " [0.60287761 0.42416108 0.76937228 0.61580381]\n",
            " [0.30675767 0.01463883 0.81659291 0.54950754]]\n",
            "mean of the array is\n",
            "0.5961260864231418\n"
          ]
        }
      ],
      "source": [
        "import numpy as np\n",
        "\n",
        "arra = np.random.rand(4,4)\n",
        "print(arra)\n",
        "\n",
        "mean_val = np.mean(arra)\n",
        "print(\"mean of the array is\")\n",
        "print(mean_val)"
      ]
    },
    {
      "cell_type": "code",
      "execution_count": null,
      "id": "de33e69c",
      "metadata": {
        "id": "de33e69c"
      },
      "outputs": [],
      "source": [
        "# 7. Create a 1D array with 10 elements and replace all odd numbers with -1."
      ]
    },
    {
      "cell_type": "code",
      "execution_count": 23,
      "id": "81c893ff",
      "metadata": {
        "id": "81c893ff",
        "outputId": "64874ad6-5f36-4a62-fe22-a7b3b15e0f6b",
        "colab": {
          "base_uri": "https://localhost:8080/"
        }
      },
      "outputs": [
        {
          "output_type": "stream",
          "name": "stdout",
          "text": [
            "[ 1  2  3  4  5  6  7  8  9 10]\n",
            "[-1  2 -1  4 -1  6 -1  8 -1 10]\n"
          ]
        }
      ],
      "source": [
        "import numpy as np\n",
        "\n",
        "array_d = np.arange(1,11)\n",
        "print(array_d)\n",
        "\n",
        "for i in range(10):\n",
        "  if((array_d[i]) %2 != 0):\n",
        "    array_d[i] = -1\n",
        "print(array_d)"
      ]
    },
    {
      "cell_type": "code",
      "execution_count": null,
      "id": "07d2fc80",
      "metadata": {
        "id": "07d2fc80"
      },
      "outputs": [],
      "source": [
        "# 8. Extract all elements from a 2D array having random integer with shape (5, 5) except for the outermost border."
      ]
    },
    {
      "cell_type": "code",
      "execution_count": 28,
      "id": "03b591b5",
      "metadata": {
        "id": "03b591b5",
        "outputId": "945ab6a7-b1bd-47be-f1aa-8bb1b59cbb25",
        "colab": {
          "base_uri": "https://localhost:8080/"
        }
      },
      "outputs": [
        {
          "output_type": "stream",
          "name": "stdout",
          "text": [
            "[[ 1  2  3  4  5]\n",
            " [ 6  7  8  9 10]\n",
            " [11 12 13 14 15]\n",
            " [16 17 18 19 20]\n",
            " [21 22 23 24 25]]\n",
            "[[ 7  8  9]\n",
            " [12 13 14]\n",
            " [17 18 19]]\n"
          ]
        }
      ],
      "source": [
        "import numpy as np\n",
        "\n",
        "int_arr = np.arange(1,26).reshape((5,5))\n",
        "print(int_arr)\n",
        "\n",
        "inner_elem = int_arr[1:-1,1:-1]\n",
        "print(inner_elem)"
      ]
    },
    {
      "cell_type": "code",
      "execution_count": null,
      "id": "c07e852d",
      "metadata": {
        "id": "c07e852d"
      },
      "outputs": [],
      "source": [
        "# 9. Generate a 4x4 matrix with random integers between 1 to 100 and replace all values greater than the mean with 1, and others with 0."
      ]
    },
    {
      "cell_type": "code",
      "execution_count": 33,
      "id": "5ede8163",
      "metadata": {
        "id": "5ede8163",
        "outputId": "577d9abc-7cad-4f99-83a4-63d430ab139f",
        "colab": {
          "base_uri": "https://localhost:8080/"
        }
      },
      "outputs": [
        {
          "output_type": "stream",
          "name": "stdout",
          "text": [
            "[[88 52 25 16]\n",
            " [44 13 88 46]\n",
            " [83 27 31  7]\n",
            " [51  9  5 38]]\n",
            "mean value is : 38.9375\n",
            "[[1 1 0 0]\n",
            " [1 0 1 1]\n",
            " [1 0 0 0]\n",
            " [1 0 0 0]]\n"
          ]
        }
      ],
      "source": [
        "import numpy as np\n",
        "\n",
        "rand_matrix = np.random.randint(1,100,size=(4,4))\n",
        "print(rand_matrix)\n",
        "\n",
        "mean_value = np.mean(rand_matrix)\n",
        "print(\"mean value is :\",mean_value)\n",
        "\n",
        "result = np.where(rand_matrix > mean_value,1,0)\n",
        "print(result)"
      ]
    },
    {
      "cell_type": "code",
      "execution_count": 35,
      "id": "58469fb7",
      "metadata": {
        "id": "58469fb7",
        "outputId": "f77929fa-b7c1-4631-ae13-b73c0e3ddc4f",
        "colab": {
          "base_uri": "https://localhost:8080/"
        }
      },
      "outputs": [
        {
          "output_type": "stream",
          "name": "stdout",
          "text": [
            "[[19 22]\n",
            " [43 50]]\n"
          ]
        }
      ],
      "source": [
        "# 10. Given two matrices:\n",
        "#    a = np.array([[1, 2], [3, 4]])\n",
        "#    b = np.array([[5, 6], [7, 8]])\n",
        "#    Perform matrix multiplication of a and b..\n",
        "\n",
        "import numpy as np\n",
        "\n",
        "a = np.array([[1, 2], [3, 4]])\n",
        "b = np.array([[5, 6], [7, 8]])\n",
        "\n",
        "res = np.dot(a,b)\n",
        "print(res)"
      ]
    },
    {
      "cell_type": "code",
      "execution_count": null,
      "id": "8bb0544e",
      "metadata": {
        "id": "8bb0544e"
      },
      "outputs": [],
      "source": [
        "# 11. Create a 3D array with shape (4, 3, 2) and find the sum of each slice along the third dimension."
      ]
    },
    {
      "cell_type": "code",
      "execution_count": 36,
      "id": "f6ae0f7c",
      "metadata": {
        "id": "f6ae0f7c",
        "outputId": "a1e30cb3-7580-4961-9176-49f93a6ad667",
        "colab": {
          "base_uri": "https://localhost:8080/"
        }
      },
      "outputs": [
        {
          "output_type": "stream",
          "name": "stdout",
          "text": [
            "[[[ 0  1]\n",
            "  [ 2  3]\n",
            "  [ 4  5]]\n",
            "\n",
            " [[ 6  7]\n",
            "  [ 8  9]\n",
            "  [10 11]]\n",
            "\n",
            " [[12 13]\n",
            "  [14 15]\n",
            "  [16 17]]\n",
            "\n",
            " [[18 19]\n",
            "  [20 21]\n",
            "  [22 23]]]\n",
            "[[ 1  5  9]\n",
            " [13 17 21]\n",
            " [25 29 33]\n",
            " [37 41 45]]\n"
          ]
        }
      ],
      "source": [
        "import numpy as np\n",
        "\n",
        "array_3d = np.arange(24).reshape((4,3,2))\n",
        "print(array_3d)\n",
        "\n",
        "resu = np.sum(array_3d, axis=2)\n",
        "print(resu)"
      ]
    },
    {
      "cell_type": "code",
      "execution_count": null,
      "id": "b3ae93d8",
      "metadata": {
        "id": "b3ae93d8"
      },
      "outputs": [],
      "source": [
        "# 12. Create a 3D array with shape (2, 4, 3) having random integers and calculate the mean along the second axis."
      ]
    },
    {
      "cell_type": "code",
      "execution_count": 37,
      "id": "4c6b43cc",
      "metadata": {
        "id": "4c6b43cc",
        "outputId": "9a888e89-50ad-44d9-be61-0607de7135f2",
        "colab": {
          "base_uri": "https://localhost:8080/"
        }
      },
      "outputs": [
        {
          "output_type": "stream",
          "name": "stdout",
          "text": [
            "[[[ 0  1]\n",
            "  [ 2  3]\n",
            "  [ 4  5]]\n",
            "\n",
            " [[ 6  7]\n",
            "  [ 8  9]\n",
            "  [10 11]]\n",
            "\n",
            " [[12 13]\n",
            "  [14 15]\n",
            "  [16 17]]\n",
            "\n",
            " [[18 19]\n",
            "  [20 21]\n",
            "  [22 23]]]\n",
            "[[ 0.5  2.5  4.5]\n",
            " [ 6.5  8.5 10.5]\n",
            " [12.5 14.5 16.5]\n",
            " [18.5 20.5 22.5]]\n"
          ]
        }
      ],
      "source": [
        "import numpy as np\n",
        "\n",
        "arra_3d = np.arange(24).reshape((4,3,2))\n",
        "print(array_3d)\n",
        "\n",
        "resu = np.mean(array_3d, axis=2)\n",
        "print(resu)"
      ]
    }
  ],
  "metadata": {
    "kernelspec": {
      "display_name": "Python 3 (ipykernel)",
      "language": "python",
      "name": "python3"
    },
    "language_info": {
      "codemirror_mode": {
        "name": "ipython",
        "version": 3
      },
      "file_extension": ".py",
      "mimetype": "text/x-python",
      "name": "python",
      "nbconvert_exporter": "python",
      "pygments_lexer": "ipython3",
      "version": "3.9.12"
    },
    "toc": {
      "base_numbering": 1,
      "nav_menu": {},
      "number_sections": true,
      "sideBar": true,
      "skip_h1_title": false,
      "title_cell": "Table of Contents",
      "title_sidebar": "Contents",
      "toc_cell": false,
      "toc_position": {},
      "toc_section_display": true,
      "toc_window_display": false
    },
    "varInspector": {
      "cols": {
        "lenName": 16,
        "lenType": 16,
        "lenVar": 40
      },
      "kernels_config": {
        "python": {
          "delete_cmd_postfix": "",
          "delete_cmd_prefix": "del ",
          "library": "var_list.py",
          "varRefreshCmd": "print(var_dic_list())"
        },
        "r": {
          "delete_cmd_postfix": ") ",
          "delete_cmd_prefix": "rm(",
          "library": "var_list.r",
          "varRefreshCmd": "cat(var_dic_list()) "
        }
      },
      "types_to_exclude": [
        "module",
        "function",
        "builtin_function_or_method",
        "instance",
        "_Feature"
      ],
      "window_display": false
    },
    "colab": {
      "provenance": []
    }
  },
  "nbformat": 4,
  "nbformat_minor": 5
}