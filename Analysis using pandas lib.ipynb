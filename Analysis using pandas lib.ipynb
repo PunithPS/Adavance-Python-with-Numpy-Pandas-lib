{
  "cells": [
    {
      "cell_type": "markdown",
      "id": "62e6bede",
      "metadata": {
        "id": "62e6bede"
      },
      "source": [
        "# Pandas"
      ]
    },
    {
      "cell_type": "markdown",
      "id": "40612979",
      "metadata": {
        "id": "40612979"
      },
      "source": [
        "DataSet Link - https://docs.google.com/spreadsheets/d/1q2vErB2pI3m7Sdu13_xR-9a1otStakdG5z1deCEMoTs/edit?usp=sharing"
      ]
    },
    {
      "cell_type": "code",
      "execution_count": 1,
      "id": "6274e94a",
      "metadata": {
        "id": "6274e94a",
        "outputId": "b57dad4b-d094-490a-ccc0-61da3fe5d7af",
        "colab": {
          "base_uri": "https://localhost:8080/"
        }
      },
      "outputs": [
        {
          "output_type": "stream",
          "name": "stdout",
          "text": [
            "<class 'pandas.core.frame.DataFrame'>\n",
            "RangeIndex: 1359 entries, 0 to 1358\n",
            "Data columns (total 19 columns):\n",
            " #   Column                  Non-Null Count  Dtype  \n",
            "---  ------                  --------------  -----  \n",
            " 0   Brand                   1359 non-null   object \n",
            " 1   Battery capacity (mAh)  1359 non-null   int64  \n",
            " 2   Screen size (inches)    1359 non-null   float64\n",
            " 3   Touchscreen             1359 non-null   object \n",
            " 4   Resolution x            1359 non-null   int64  \n",
            " 5   Resolution y            1359 non-null   int64  \n",
            " 6   Processor               1359 non-null   int64  \n",
            " 7   RAM (MB)                1359 non-null   int64  \n",
            " 8   Internal storage (GB)   1359 non-null   float64\n",
            " 9   Rear camera             1359 non-null   float64\n",
            " 10  Front camera            1359 non-null   float64\n",
            " 11  Operating system        1359 non-null   object \n",
            " 12  Wi-Fi                   1359 non-null   object \n",
            " 13  Bluetooth               1359 non-null   object \n",
            " 14  GPS                     1359 non-null   object \n",
            " 15  Number of SIMs          1359 non-null   int64  \n",
            " 16  3G                      1359 non-null   object \n",
            " 17  4G/ LTE                 1359 non-null   object \n",
            " 18  Price                   1359 non-null   int64  \n",
            "dtypes: float64(4), int64(7), object(8)\n",
            "memory usage: 201.9+ KB\n"
          ]
        }
      ],
      "source": [
        "import pandas as pd\n",
        "\n",
        "\n",
        "df = pd.read_csv(\"Mobilephone_data_final_V2 - ndtv_data_final.csv\")\n",
        "df.info()"
      ]
    },
    {
      "cell_type": "markdown",
      "id": "1f2185b6",
      "metadata": {
        "id": "1f2185b6"
      },
      "source": [
        " retrieve the values in the \"RAM\" column for all smartphones in the dataset?"
      ]
    },
    {
      "cell_type": "code",
      "execution_count": 2,
      "id": "7c2a0677",
      "metadata": {
        "id": "7c2a0677",
        "outputId": "f81af3c6-a907-458f-99df-1a5f39248242",
        "colab": {
          "base_uri": "https://localhost:8080/"
        }
      },
      "outputs": [
        {
          "output_type": "stream",
          "name": "stdout",
          "text": [
            "0       12000\n",
            "1        6000\n",
            "2        4000\n",
            "3        4000\n",
            "4        6000\n",
            "        ...  \n",
            "1354      512\n",
            "1355     1000\n",
            "1356      512\n",
            "1357      256\n",
            "1358     1000\n",
            "Name: RAM (MB), Length: 1359, dtype: int64\n"
          ]
        }
      ],
      "source": [
        "print(df['RAM (MB)'])"
      ]
    },
    {
      "cell_type": "markdown",
      "id": "b9a6c095",
      "metadata": {
        "id": "b9a6c095"
      },
      "source": [
        "Retrieve the \"Brand\" and \"Price\" columns for the smartphones with a battery capacity greater than 4000 mAh."
      ]
    },
    {
      "cell_type": "code",
      "execution_count": 7,
      "id": "36364735",
      "metadata": {
        "id": "36364735",
        "outputId": "52b7c625-9708-4a1a-ab6a-421bfd3b8935",
        "colab": {
          "base_uri": "https://localhost:8080/"
        }
      },
      "outputs": [
        {
          "output_type": "stream",
          "name": "stdout",
          "text": [
            "        Brand  Price\n",
            "0     OnePlus  58998\n",
            "6     OnePlus  52990\n",
            "7     Samsung  79699\n",
            "8        Asus  37999\n",
            "14       Oppo  36990\n",
            "...       ...    ...\n",
            "1117       LG   6999\n",
            "1154    Meizu   5290\n",
            "1158  Samsung  19980\n",
            "1186       HP  88719\n",
            "1199   Lenovo   7679\n",
            "\n",
            "[125 rows x 2 columns]\n"
          ]
        }
      ],
      "source": [
        "cond_df = df[df['Battery capacity (mAh)'] > 4000]\n",
        "\n",
        "result = cond_df[['Brand','Price']]\n",
        "print(result)"
      ]
    },
    {
      "cell_type": "markdown",
      "id": "0edaf0fd",
      "metadata": {
        "id": "0edaf0fd"
      },
      "source": [
        "Find smartphones with internal storage greater than 100 GB or a rear camera resolution above 20 MP."
      ]
    },
    {
      "cell_type": "code",
      "execution_count": 8,
      "id": "ff1289a9",
      "metadata": {
        "id": "ff1289a9",
        "outputId": "a88a0067-e625-424f-bef8-59dfadf26d70",
        "colab": {
          "base_uri": "https://localhost:8080/"
        }
      },
      "outputs": [
        {
          "output_type": "stream",
          "name": "stdout",
          "text": [
            "        Brand  Battery capacity (mAh)  Screen size (inches) Touchscreen  \\\n",
            "0     OnePlus                    4085                  6.67         Yes   \n",
            "1      Realme                    4000                  6.50         Yes   \n",
            "4          LG                    4000                  6.40         Yes   \n",
            "5     OnePlus                    3800                  6.55         Yes   \n",
            "6     OnePlus                    4085                  6.67         Yes   \n",
            "...       ...                     ...                   ...         ...   \n",
            "1173   mPhone                    3050                  5.50         Yes   \n",
            "1178     Zopo                    3600                  5.50         Yes   \n",
            "1182     Sony                    2620                  5.00         Yes   \n",
            "1309     Sony                    3430                  5.50         Yes   \n",
            "1336     Sony                    2600                  5.00         Yes   \n",
            "\n",
            "      Resolution x  Resolution y  Processor  RAM (MB)  Internal storage (GB)  \\\n",
            "0             1440          3120          8     12000                  256.0   \n",
            "1             1080          2400          8      6000                   64.0   \n",
            "4             1080          2340          8      6000                  128.0   \n",
            "5             1080          2400          8      8000                  128.0   \n",
            "6             1440          3120          8      8000                  256.0   \n",
            "...            ...           ...        ...       ...                    ...   \n",
            "1173          1080          1920          8      4000                   64.0   \n",
            "1178          1080          1920         10      4000                   32.0   \n",
            "1182          1080          1920          1      3000                   32.0   \n",
            "1309          2160          3840          8      3000                   32.0   \n",
            "1336          1080          1920          8      3000                   16.0   \n",
            "\n",
            "      Rear camera  Front camera Operating system Wi-Fi Bluetooth  GPS  \\\n",
            "0            48.0          16.0          Android   Yes       Yes  Yes   \n",
            "1            64.0          16.0          Android   Yes       Yes  Yes   \n",
            "4            12.0          32.0          Android   Yes       Yes  Yes   \n",
            "5            48.0          16.0          Android   Yes       Yes   No   \n",
            "6            48.0          16.0          Android   Yes       Yes  Yes   \n",
            "...           ...           ...              ...   ...       ...  ...   \n",
            "1173         21.0           8.0          Android   Yes       Yes  Yes   \n",
            "1178         21.0           8.0          Android   Yes       Yes  Yes   \n",
            "1182         23.0          13.0          Android   Yes       Yes  Yes   \n",
            "1309         23.0           5.0          Android   Yes       Yes  Yes   \n",
            "1336         21.5          13.0          Android   Yes       Yes  Yes   \n",
            "\n",
            "      Number of SIMs   3G 4G/ LTE  Price  \n",
            "0                  2  Yes     Yes  58998  \n",
            "1                  2  Yes     Yes  27999  \n",
            "4                  1   No      No  49990  \n",
            "5                  2  Yes     Yes  34930  \n",
            "6                  2  Yes     Yes  52990  \n",
            "...              ...  ...     ...    ...  \n",
            "1173               2  Yes     Yes   6499  \n",
            "1178               2  Yes     Yes   9980  \n",
            "1182               1  Yes     Yes  19990  \n",
            "1309               2  Yes     Yes  57500  \n",
            "1336               1  Yes     Yes   5999  \n",
            "\n",
            "[125 rows x 19 columns]\n"
          ]
        }
      ],
      "source": [
        "df_smarphone = df[(df['Internal storage (GB)'] > 100) | (df['Rear camera'] > 20)]\n",
        "print(df_smarphone)\n"
      ]
    },
    {
      "cell_type": "markdown",
      "id": "d02e96af",
      "metadata": {
        "id": "d02e96af"
      },
      "source": [
        "Add a new column named \"Total Storage\" that sums up the \"RAM\" and \"Internal Storage\" columns."
      ]
    },
    {
      "cell_type": "code",
      "execution_count": 9,
      "id": "b88b279f",
      "metadata": {
        "id": "b88b279f",
        "outputId": "176d38ff-c57e-42e6-fac2-e1e3fbd1511b",
        "colab": {
          "base_uri": "https://localhost:8080/"
        }
      },
      "outputs": [
        {
          "output_type": "stream",
          "name": "stdout",
          "text": [
            "<class 'pandas.core.frame.DataFrame'>\n",
            "RangeIndex: 1359 entries, 0 to 1358\n",
            "Data columns (total 20 columns):\n",
            " #   Column                  Non-Null Count  Dtype  \n",
            "---  ------                  --------------  -----  \n",
            " 0   Brand                   1359 non-null   object \n",
            " 1   Battery capacity (mAh)  1359 non-null   int64  \n",
            " 2   Screen size (inches)    1359 non-null   float64\n",
            " 3   Touchscreen             1359 non-null   object \n",
            " 4   Resolution x            1359 non-null   int64  \n",
            " 5   Resolution y            1359 non-null   int64  \n",
            " 6   Processor               1359 non-null   int64  \n",
            " 7   RAM (MB)                1359 non-null   int64  \n",
            " 8   Internal storage (GB)   1359 non-null   float64\n",
            " 9   Rear camera             1359 non-null   float64\n",
            " 10  Front camera            1359 non-null   float64\n",
            " 11  Operating system        1359 non-null   object \n",
            " 12  Wi-Fi                   1359 non-null   object \n",
            " 13  Bluetooth               1359 non-null   object \n",
            " 14  GPS                     1359 non-null   object \n",
            " 15  Number of SIMs          1359 non-null   int64  \n",
            " 16  3G                      1359 non-null   object \n",
            " 17  4G/ LTE                 1359 non-null   object \n",
            " 18  Price                   1359 non-null   int64  \n",
            " 19  Total Storage           1359 non-null   float64\n",
            "dtypes: float64(5), int64(7), object(8)\n",
            "memory usage: 212.5+ KB\n",
            "None\n"
          ]
        }
      ],
      "source": [
        "df['Total Storage'] = df['RAM (MB)'] + df['Internal storage (GB)']\n",
        "print(df.info())"
      ]
    },
    {
      "cell_type": "markdown",
      "id": "79e638ca",
      "metadata": {
        "id": "79e638ca"
      },
      "source": [
        "Set the \"Brand\" column as the index for the dataset."
      ]
    },
    {
      "cell_type": "code",
      "execution_count": null,
      "id": "06e8998a",
      "metadata": {
        "id": "06e8998a"
      },
      "outputs": [],
      "source": [
        "df.set_index('Brand',inplace= True)"
      ]
    },
    {
      "cell_type": "markdown",
      "id": "8a383c0d",
      "metadata": {
        "id": "8a383c0d"
      },
      "source": [
        "Reset the index of the dataset."
      ]
    },
    {
      "cell_type": "code",
      "source": [
        "df.reset_index(inplace=True)"
      ],
      "metadata": {
        "id": "zX33Ifd9mgrJ"
      },
      "id": "zX33Ifd9mgrJ",
      "execution_count": null,
      "outputs": []
    },
    {
      "cell_type": "markdown",
      "id": "be1e7ddc",
      "metadata": {
        "id": "be1e7ddc"
      },
      "source": [
        "Calculate the average \"Price\" of smartphones in the dataset."
      ]
    },
    {
      "cell_type": "code",
      "source": [
        "avg_price = df['Price'].mean()\n",
        "print(avg_price)"
      ],
      "metadata": {
        "id": "rKJwQYOhm_dk",
        "outputId": "e791ab3c-54d2-48c4-9fb9-261054303be0",
        "colab": {
          "base_uri": "https://localhost:8080/"
        }
      },
      "id": "rKJwQYOhm_dk",
      "execution_count": 10,
      "outputs": [
        {
          "output_type": "stream",
          "name": "stdout",
          "text": [
            "11465.825607064018\n"
          ]
        }
      ]
    },
    {
      "cell_type": "markdown",
      "id": "af7e5161",
      "metadata": {
        "id": "af7e5161"
      },
      "source": [
        "Group the dataset by \"Brand\" and find the average battery capacity for each brand"
      ]
    },
    {
      "cell_type": "code",
      "execution_count": 5,
      "id": "4b9cbf19",
      "metadata": {
        "id": "4b9cbf19",
        "outputId": "7d9ab686-2754-436f-b52b-19c433258189",
        "colab": {
          "base_uri": "https://localhost:8080/"
        }
      },
      "outputs": [
        {
          "output_type": "stream",
          "name": "stdout",
          "text": [
            "Brand\n",
            "10.or      3940.000000\n",
            "Acer       3210.000000\n",
            "Alcatel    2819.000000\n",
            "Apple      2517.176471\n",
            "Aqua       2800.000000\n",
            "              ...     \n",
            "Zopo       2510.833333\n",
            "Zuk        3100.000000\n",
            "iBall      2017.857143\n",
            "iVoomi     2912.500000\n",
            "mPhone     2825.000000\n",
            "Name: Battery capacity (mAh), Length: 76, dtype: float64\n"
          ]
        }
      ],
      "source": [
        "brand_gp = df.groupby('Brand')\n",
        "avg_bat_cap = brand_gp['Battery capacity (mAh)'].mean()\n",
        "print(avg_bat_cap)"
      ]
    },
    {
      "cell_type": "markdown",
      "id": "6a5cab35",
      "metadata": {
        "id": "6a5cab35"
      },
      "source": [
        "Group the dataset by \"Brand\" and calculate the total storage (sum of RAM and Internal Storage) for each brand."
      ]
    },
    {
      "cell_type": "code",
      "execution_count": 11,
      "id": "8ced279f",
      "metadata": {
        "id": "8ced279f",
        "outputId": "b2c7a66a-c517-4993-ab4a-acab9bc9f80a",
        "colab": {
          "base_uri": "https://localhost:8080/"
        }
      },
      "outputs": [
        {
          "output_type": "stream",
          "name": "stdout",
          "text": [
            "Brand\n",
            "10.or      13144.000\n",
            "Acer        5048.000\n",
            "Alcatel    23208.000\n",
            "Apple      45728.000\n",
            "Aqua        1016.000\n",
            "             ...    \n",
            "Zopo       28240.000\n",
            "Zuk         4064.000\n",
            "iBall      13150.024\n",
            "iVoomi     30264.000\n",
            "mPhone      7096.000\n",
            "Name: Total Storage, Length: 76, dtype: float64\n"
          ]
        }
      ],
      "source": [
        "total_stor = brand_gp['Total Storage'].sum()\n",
        "print(total_stor)"
      ]
    },
    {
      "cell_type": "markdown",
      "id": "c1bf2d23",
      "metadata": {
        "id": "c1bf2d23"
      },
      "source": [
        "Group the data by \"Operating System\" and find both the average and maximum rear camera resolution for each OS."
      ]
    },
    {
      "cell_type": "code",
      "execution_count": 22,
      "id": "ad56f042",
      "metadata": {
        "id": "ad56f042",
        "outputId": "5abe4ad6-f588-4f84-beb5-2d33221b7447",
        "colab": {
          "base_uri": "https://localhost:8080/"
        }
      },
      "outputs": [
        {
          "output_type": "stream",
          "name": "stdout",
          "text": [
            "Operating system\n",
            "Android       12.180523\n",
            "BlackBerry     7.000000\n",
            "Cyanogen       8.320000\n",
            "Sailfish       8.000000\n",
            "Tizen          6.000000\n",
            "Windows       11.036842\n",
            "iOS           11.294118\n",
            "Name: Rear camera, dtype: float64\n",
            "Operating system\n",
            "Android       108.0\n",
            "BlackBerry     13.0\n",
            "Cyanogen       21.0\n",
            "Sailfish        8.0\n",
            "Tizen           8.0\n",
            "Windows        41.0\n",
            "iOS            12.0\n",
            "Name: Rear camera, dtype: float64\n"
          ]
        }
      ],
      "source": [
        "group_OS = df.groupby('Operating system')\n",
        "\n",
        "avg_rear_cam = group_OS['Rear camera'].mean()\n",
        "print(avg_rear_cam)\n",
        "max_rear_cam = group_OS['Rear camera'].max()\n",
        "print(max_rear_cam)"
      ]
    },
    {
      "cell_type": "markdown",
      "id": "b5f707b3",
      "metadata": {
        "id": "b5f707b3"
      },
      "source": [
        "Create new column price ranges -  Low, Medium, High using price column and then group the data by these ranges, calculating the average screen size for each price range.\n",
        "\n",
        "NOTE : you can set the price parameter for \"price ranges\" column by your own"
      ]
    },
    {
      "cell_type": "code",
      "execution_count": 17,
      "id": "287a9582",
      "metadata": {
        "id": "287a9582",
        "colab": {
          "base_uri": "https://localhost:8080/"
        },
        "outputId": "8f8e5bb5-6769-4af5-c172-b7996781db89"
      },
      "outputs": [
        {
          "output_type": "stream",
          "name": "stdout",
          "text": [
            "Price Range\n",
            "High      6.087632\n",
            "Medium    5.748607\n",
            "low       5.219541\n",
            "Name: Screen size (inches), dtype: float64\n"
          ]
        }
      ],
      "source": [
        "def price_range(price):\n",
        "  if price < 20000:\n",
        "    return \"low\"\n",
        "  elif 20000 <= price <= 50000:\n",
        "    return \"Medium\"\n",
        "  else:\n",
        "    return \"High\"\n",
        "\n",
        "df['Price Range'] = df['Price'].apply(price_range)\n",
        "\n",
        "gp_df = df.groupby('Price Range')\n",
        "\n",
        "avg_screen_size = gp_df['Screen size (inches)'].mean()\n",
        "print(avg_screen_size)"
      ]
    },
    {
      "cell_type": "markdown",
      "id": "f3f63c55",
      "metadata": {
        "ExecuteTime": {
          "end_time": "2023-12-08T13:06:54.699413Z",
          "start_time": "2023-12-08T13:06:54.677125Z"
        },
        "id": "f3f63c55"
      },
      "source": [
        "Group the dataset by \"Brand\" and calculate the average battery capacity for smartphones with a price above 50000."
      ]
    },
    {
      "cell_type": "code",
      "execution_count": 15,
      "id": "fc982798",
      "metadata": {
        "id": "fc982798",
        "colab": {
          "base_uri": "https://localhost:8080/"
        },
        "outputId": "71c08ee8-f7b2-4f0e-9991-ef56cdb2bbed"
      },
      "outputs": [
        {
          "output_type": "stream",
          "name": "stdout",
          "text": [
            "Brand\n",
            "Apple      3026.166667\n",
            "Asus       4000.000000\n",
            "Cat        4500.000000\n",
            "Google     3250.000000\n",
            "HP         4150.000000\n",
            "HTC        3357.500000\n",
            "Huawei     4225.000000\n",
            "OnePlus    4085.000000\n",
            "Oppo       3730.000000\n",
            "Razer      4000.000000\n",
            "Samsung    3878.000000\n",
            "Sony       3298.000000\n",
            "Name: Battery capacity (mAh), dtype: float64\n"
          ]
        }
      ],
      "source": [
        "filtered_df= df[df['Price'] > 50000]\n",
        "avg_bat = filtered_df.groupby('Brand')['Battery capacity (mAh)'].mean()\n",
        "print(avg_bat)"
      ]
    }
  ],
  "metadata": {
    "kernelspec": {
      "display_name": "Python 3 (ipykernel)",
      "language": "python",
      "name": "python3"
    },
    "language_info": {
      "codemirror_mode": {
        "name": "ipython",
        "version": 3
      },
      "file_extension": ".py",
      "mimetype": "text/x-python",
      "name": "python",
      "nbconvert_exporter": "python",
      "pygments_lexer": "ipython3",
      "version": "3.9.12"
    },
    "toc": {
      "base_numbering": 1,
      "nav_menu": {},
      "number_sections": true,
      "sideBar": true,
      "skip_h1_title": false,
      "title_cell": "Table of Contents",
      "title_sidebar": "Contents",
      "toc_cell": false,
      "toc_position": {},
      "toc_section_display": true,
      "toc_window_display": false
    },
    "varInspector": {
      "cols": {
        "lenName": 16,
        "lenType": 16,
        "lenVar": 40
      },
      "kernels_config": {
        "python": {
          "delete_cmd_postfix": "",
          "delete_cmd_prefix": "del ",
          "library": "var_list.py",
          "varRefreshCmd": "print(var_dic_list())"
        },
        "r": {
          "delete_cmd_postfix": ") ",
          "delete_cmd_prefix": "rm(",
          "library": "var_list.r",
          "varRefreshCmd": "cat(var_dic_list()) "
        }
      },
      "types_to_exclude": [
        "module",
        "function",
        "builtin_function_or_method",
        "instance",
        "_Feature"
      ],
      "window_display": false
    },
    "colab": {
      "provenance": []
    }
  },
  "nbformat": 4,
  "nbformat_minor": 5
}